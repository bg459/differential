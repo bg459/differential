{
 "cells": [
  {
   "cell_type": "code",
   "execution_count": 105,
   "metadata": {},
   "outputs": [
    {
     "name": "stderr",
     "output_type": "stream",
     "text": [
      "/Users/bguo/opt/anaconda3/lib/python3.6/site-packages/IPython/core/interactiveshell.py:3072: DtypeWarning: Columns (2,3,4,5,6,7,8,9,10,11,12,13,14,15,16,17,18,19,20,21,22,23,24,25,26,27,28,29,30,31,32,33,34,35,36,37,38,39,40,41,42,43,44,45,46,47,48,49,50,51,52,53,54,55,56,57,58,59,60,61,62,63,64,65,66,67,68,69,70,71,72,73,74,75,76,77,78,79,80,81,82,83,84,85,86,87,88,89,90,91,92,93,94,95,96,97,98,99,100,101,102,103,104,105,106,107,108,109,110,111,112,113,114,115,116,117,118,119,120,121,122,123,124,125,126,127,128,129,130,131,132) have mixed types.Specify dtype option on import or set low_memory=False.\n",
      "  interactivity=interactivity, compiler=compiler, result=result)\n"
     ]
    }
   ],
   "source": [
    "import pandas as pd\n",
    "import numpy as np\n",
    "pd.options.mode.chained_assignment = None  # default='warn'\n",
    "\n",
    "expressions = pd.read_csv(\"gene_expression.csv\")\n",
    "expressions = expressions.drop(['ID_REF'], axis = 1)\n",
    "expressions = expressions[expressions['Symbol'].notnull()]"
   ]
  },
  {
   "cell_type": "code",
   "execution_count": 106,
   "metadata": {},
   "outputs": [],
   "source": [
    "# extract labels\n",
    "\n",
    "labels = expressions.iloc[0, :]\n",
    "labels = labels.map({\"disease status: non-asthmatic\": 0, \"disease status: asthmatic\": 1, \"disease status: N/A\": 2})\n",
    "bad_index = np.where(labels > 1)\n",
    "labels = labels[labels <= 1]\n",
    "\n",
    "bad_cols = expressions.columns[bad_index]\n",
    "expressions = expressions.drop(bad_cols, axis = 1)\n",
    "expressions = expressions[1:]\n",
    "# expressions.iloc[0, :] = labels\n",
    "# expressions.loc[0, 'Symbol'] = 'label'"
   ]
  },
  {
   "cell_type": "code",
   "execution_count": 107,
   "metadata": {},
   "outputs": [],
   "source": [
    "cols = expressions.columns\n",
    "for key in cols[1:]:\n",
    "    expressions[key] = pd.to_numeric(expressions[key])"
   ]
  },
  {
   "cell_type": "code",
   "execution_count": 108,
   "metadata": {},
   "outputs": [],
   "source": [
    "expressions = expressions.groupby(['Symbol']).mean()"
   ]
  },
  {
   "cell_type": "code",
   "execution_count": 135,
   "metadata": {},
   "outputs": [],
   "source": [
    "## Subset genes based on network results\n",
    "\n",
    "shortlist = pd.read_csv(\"edgelist_Virtualitics.csv\")\n",
    "\n",
    "# top 5 communities\n",
    "community_num = [\"Community \" + str(x) for x in [0, 27, 48, 2, 23, 7]]"
   ]
  },
  {
   "cell_type": "code",
   "execution_count": 136,
   "metadata": {},
   "outputs": [],
   "source": [
    "comm_shortlist = shortlist[shortlist['Louvain Community'].isin(community_num)]\n",
    "community_genes = comm_shortlist['Node ID']"
   ]
  },
  {
   "cell_type": "code",
   "execution_count": 137,
   "metadata": {},
   "outputs": [],
   "source": [
    "community_expressions = expressions[expressions.index.isin(community_genes)]\n",
    "\n",
    "comm_mapping = comm_shortlist.set_index('Node ID').to_dict()['Louvain Community']"
   ]
  },
  {
   "cell_type": "code",
   "execution_count": 138,
   "metadata": {},
   "outputs": [],
   "source": [
    "mapped_comm = community_expressions.index.to_series().map(comm_mapping)"
   ]
  },
  {
   "cell_type": "code",
   "execution_count": 139,
   "metadata": {},
   "outputs": [],
   "source": [
    "control_index = labels[labels == 0].index\n",
    "asthma_index = labels[labels == 1].index"
   ]
  },
  {
   "cell_type": "code",
   "execution_count": 140,
   "metadata": {},
   "outputs": [],
   "source": [
    "community = {}\n",
    "community['control'] = community_expressions[control_index]\n",
    "community['asthma'] = community_expressions[asthma_index]\n",
    "community['asthma']['community'] = mapped_comm\n",
    "community['control']['community'] = mapped_comm"
   ]
  },
  {
   "cell_type": "code",
   "execution_count": 141,
   "metadata": {},
   "outputs": [
    {
     "data": {
      "text/html": [
       "<div>\n",
       "<style scoped>\n",
       "    .dataframe tbody tr th:only-of-type {\n",
       "        vertical-align: middle;\n",
       "    }\n",
       "\n",
       "    .dataframe tbody tr th {\n",
       "        vertical-align: top;\n",
       "    }\n",
       "\n",
       "    .dataframe thead th {\n",
       "        text-align: right;\n",
       "    }\n",
       "</style>\n",
       "<table border=\"1\" class=\"dataframe\">\n",
       "  <thead>\n",
       "    <tr style=\"text-align: right;\">\n",
       "      <th></th>\n",
       "      <th>GSM870902</th>\n",
       "      <th>GSM870908</th>\n",
       "      <th>GSM870909</th>\n",
       "      <th>GSM870916</th>\n",
       "      <th>GSM870920</th>\n",
       "      <th>GSM870925</th>\n",
       "      <th>GSM870928</th>\n",
       "      <th>GSM870931</th>\n",
       "      <th>GSM870933</th>\n",
       "      <th>GSM870935</th>\n",
       "      <th>...</th>\n",
       "      <th>GSM871016</th>\n",
       "      <th>GSM871017</th>\n",
       "      <th>GSM871020</th>\n",
       "      <th>GSM871021</th>\n",
       "      <th>GSM871022</th>\n",
       "      <th>GSM871025</th>\n",
       "      <th>GSM871026</th>\n",
       "      <th>GSM871027</th>\n",
       "      <th>GSM871032</th>\n",
       "      <th>community</th>\n",
       "    </tr>\n",
       "    <tr>\n",
       "      <th>Symbol</th>\n",
       "      <th></th>\n",
       "      <th></th>\n",
       "      <th></th>\n",
       "      <th></th>\n",
       "      <th></th>\n",
       "      <th></th>\n",
       "      <th></th>\n",
       "      <th></th>\n",
       "      <th></th>\n",
       "      <th></th>\n",
       "      <th></th>\n",
       "      <th></th>\n",
       "      <th></th>\n",
       "      <th></th>\n",
       "      <th></th>\n",
       "      <th></th>\n",
       "      <th></th>\n",
       "      <th></th>\n",
       "      <th></th>\n",
       "      <th></th>\n",
       "      <th></th>\n",
       "    </tr>\n",
       "  </thead>\n",
       "  <tbody>\n",
       "    <tr>\n",
       "      <th>AAAS</th>\n",
       "      <td>7.270958</td>\n",
       "      <td>7.400666</td>\n",
       "      <td>7.274018</td>\n",
       "      <td>7.305615</td>\n",
       "      <td>7.339042</td>\n",
       "      <td>7.547801</td>\n",
       "      <td>7.329639</td>\n",
       "      <td>7.409556</td>\n",
       "      <td>7.300221</td>\n",
       "      <td>7.824174</td>\n",
       "      <td>...</td>\n",
       "      <td>6.910281</td>\n",
       "      <td>6.927554</td>\n",
       "      <td>7.239283</td>\n",
       "      <td>6.838720</td>\n",
       "      <td>7.050743</td>\n",
       "      <td>7.252188</td>\n",
       "      <td>7.018683</td>\n",
       "      <td>6.891862</td>\n",
       "      <td>7.083908</td>\n",
       "      <td>Community 27</td>\n",
       "    </tr>\n",
       "    <tr>\n",
       "      <th>AAR2</th>\n",
       "      <td>8.005934</td>\n",
       "      <td>7.788928</td>\n",
       "      <td>7.795040</td>\n",
       "      <td>8.175761</td>\n",
       "      <td>7.790937</td>\n",
       "      <td>7.630951</td>\n",
       "      <td>7.840549</td>\n",
       "      <td>7.940925</td>\n",
       "      <td>7.945878</td>\n",
       "      <td>8.135699</td>\n",
       "      <td>...</td>\n",
       "      <td>8.176222</td>\n",
       "      <td>8.070155</td>\n",
       "      <td>8.009229</td>\n",
       "      <td>7.881362</td>\n",
       "      <td>7.962036</td>\n",
       "      <td>7.891650</td>\n",
       "      <td>7.910554</td>\n",
       "      <td>7.820054</td>\n",
       "      <td>8.107168</td>\n",
       "      <td>Community 2</td>\n",
       "    </tr>\n",
       "    <tr>\n",
       "      <th>ABCA2</th>\n",
       "      <td>5.441511</td>\n",
       "      <td>5.464134</td>\n",
       "      <td>4.936652</td>\n",
       "      <td>5.750829</td>\n",
       "      <td>5.393898</td>\n",
       "      <td>5.455789</td>\n",
       "      <td>5.291827</td>\n",
       "      <td>5.463618</td>\n",
       "      <td>5.174071</td>\n",
       "      <td>5.631628</td>\n",
       "      <td>...</td>\n",
       "      <td>4.987576</td>\n",
       "      <td>5.156936</td>\n",
       "      <td>5.132485</td>\n",
       "      <td>5.417698</td>\n",
       "      <td>5.529799</td>\n",
       "      <td>5.577380</td>\n",
       "      <td>5.645695</td>\n",
       "      <td>5.104899</td>\n",
       "      <td>5.169124</td>\n",
       "      <td>Community 27</td>\n",
       "    </tr>\n",
       "    <tr>\n",
       "      <th>ABCC1</th>\n",
       "      <td>7.290247</td>\n",
       "      <td>7.968351</td>\n",
       "      <td>8.225717</td>\n",
       "      <td>7.978555</td>\n",
       "      <td>7.823975</td>\n",
       "      <td>7.750453</td>\n",
       "      <td>7.776225</td>\n",
       "      <td>7.538786</td>\n",
       "      <td>7.778362</td>\n",
       "      <td>7.747120</td>\n",
       "      <td>...</td>\n",
       "      <td>7.676370</td>\n",
       "      <td>7.554297</td>\n",
       "      <td>7.558153</td>\n",
       "      <td>7.562079</td>\n",
       "      <td>7.847582</td>\n",
       "      <td>7.692821</td>\n",
       "      <td>7.588472</td>\n",
       "      <td>7.878840</td>\n",
       "      <td>7.931561</td>\n",
       "      <td>Community 27</td>\n",
       "    </tr>\n",
       "    <tr>\n",
       "      <th>ABCD4</th>\n",
       "      <td>6.316590</td>\n",
       "      <td>6.257385</td>\n",
       "      <td>6.164607</td>\n",
       "      <td>6.193646</td>\n",
       "      <td>6.287232</td>\n",
       "      <td>5.882032</td>\n",
       "      <td>6.041392</td>\n",
       "      <td>5.923500</td>\n",
       "      <td>6.118146</td>\n",
       "      <td>6.096498</td>\n",
       "      <td>...</td>\n",
       "      <td>6.440137</td>\n",
       "      <td>6.269538</td>\n",
       "      <td>6.415836</td>\n",
       "      <td>6.220065</td>\n",
       "      <td>6.504010</td>\n",
       "      <td>6.207760</td>\n",
       "      <td>6.171836</td>\n",
       "      <td>6.245180</td>\n",
       "      <td>5.892234</td>\n",
       "      <td>Community 48</td>\n",
       "    </tr>\n",
       "    <tr>\n",
       "      <th>...</th>\n",
       "      <td>...</td>\n",
       "      <td>...</td>\n",
       "      <td>...</td>\n",
       "      <td>...</td>\n",
       "      <td>...</td>\n",
       "      <td>...</td>\n",
       "      <td>...</td>\n",
       "      <td>...</td>\n",
       "      <td>...</td>\n",
       "      <td>...</td>\n",
       "      <td>...</td>\n",
       "      <td>...</td>\n",
       "      <td>...</td>\n",
       "      <td>...</td>\n",
       "      <td>...</td>\n",
       "      <td>...</td>\n",
       "      <td>...</td>\n",
       "      <td>...</td>\n",
       "      <td>...</td>\n",
       "      <td>...</td>\n",
       "      <td>...</td>\n",
       "    </tr>\n",
       "    <tr>\n",
       "      <th>ZNF821</th>\n",
       "      <td>5.630131</td>\n",
       "      <td>5.529426</td>\n",
       "      <td>5.238278</td>\n",
       "      <td>5.444373</td>\n",
       "      <td>5.544027</td>\n",
       "      <td>5.687905</td>\n",
       "      <td>5.444817</td>\n",
       "      <td>5.569761</td>\n",
       "      <td>5.517299</td>\n",
       "      <td>5.540761</td>\n",
       "      <td>...</td>\n",
       "      <td>5.609227</td>\n",
       "      <td>5.440470</td>\n",
       "      <td>5.705736</td>\n",
       "      <td>5.738321</td>\n",
       "      <td>5.713382</td>\n",
       "      <td>5.714240</td>\n",
       "      <td>5.476501</td>\n",
       "      <td>5.312385</td>\n",
       "      <td>5.525644</td>\n",
       "      <td>Community 23</td>\n",
       "    </tr>\n",
       "    <tr>\n",
       "      <th>ZNF844</th>\n",
       "      <td>4.879632</td>\n",
       "      <td>4.926237</td>\n",
       "      <td>4.489063</td>\n",
       "      <td>4.917928</td>\n",
       "      <td>4.808789</td>\n",
       "      <td>4.614156</td>\n",
       "      <td>4.462999</td>\n",
       "      <td>4.802756</td>\n",
       "      <td>4.956813</td>\n",
       "      <td>4.874876</td>\n",
       "      <td>...</td>\n",
       "      <td>5.017132</td>\n",
       "      <td>4.829034</td>\n",
       "      <td>4.616763</td>\n",
       "      <td>4.625856</td>\n",
       "      <td>4.597220</td>\n",
       "      <td>4.440371</td>\n",
       "      <td>4.343730</td>\n",
       "      <td>5.135127</td>\n",
       "      <td>4.608778</td>\n",
       "      <td>Community 23</td>\n",
       "    </tr>\n",
       "    <tr>\n",
       "      <th>ZNF879</th>\n",
       "      <td>6.064936</td>\n",
       "      <td>6.722705</td>\n",
       "      <td>5.882056</td>\n",
       "      <td>6.606961</td>\n",
       "      <td>7.178251</td>\n",
       "      <td>6.409577</td>\n",
       "      <td>6.764717</td>\n",
       "      <td>6.852185</td>\n",
       "      <td>6.319512</td>\n",
       "      <td>5.890456</td>\n",
       "      <td>...</td>\n",
       "      <td>6.628029</td>\n",
       "      <td>6.786501</td>\n",
       "      <td>6.381116</td>\n",
       "      <td>6.001436</td>\n",
       "      <td>7.155586</td>\n",
       "      <td>6.451342</td>\n",
       "      <td>6.758449</td>\n",
       "      <td>6.876427</td>\n",
       "      <td>6.541575</td>\n",
       "      <td>Community 27</td>\n",
       "    </tr>\n",
       "    <tr>\n",
       "      <th>ZSCAN21</th>\n",
       "      <td>5.834750</td>\n",
       "      <td>5.770977</td>\n",
       "      <td>6.334286</td>\n",
       "      <td>6.170622</td>\n",
       "      <td>6.254965</td>\n",
       "      <td>5.926183</td>\n",
       "      <td>5.993926</td>\n",
       "      <td>6.321244</td>\n",
       "      <td>5.799894</td>\n",
       "      <td>5.861283</td>\n",
       "      <td>...</td>\n",
       "      <td>5.997561</td>\n",
       "      <td>5.961450</td>\n",
       "      <td>5.831142</td>\n",
       "      <td>5.770635</td>\n",
       "      <td>6.238144</td>\n",
       "      <td>5.838271</td>\n",
       "      <td>6.080958</td>\n",
       "      <td>5.884458</td>\n",
       "      <td>6.085920</td>\n",
       "      <td>Community 27</td>\n",
       "    </tr>\n",
       "    <tr>\n",
       "      <th>ZSCAN9</th>\n",
       "      <td>5.599729</td>\n",
       "      <td>5.793637</td>\n",
       "      <td>5.570382</td>\n",
       "      <td>6.121506</td>\n",
       "      <td>5.683940</td>\n",
       "      <td>5.436541</td>\n",
       "      <td>5.436369</td>\n",
       "      <td>5.539313</td>\n",
       "      <td>5.694981</td>\n",
       "      <td>5.437147</td>\n",
       "      <td>...</td>\n",
       "      <td>5.801952</td>\n",
       "      <td>5.447342</td>\n",
       "      <td>5.601338</td>\n",
       "      <td>5.742164</td>\n",
       "      <td>5.884314</td>\n",
       "      <td>6.059390</td>\n",
       "      <td>5.860470</td>\n",
       "      <td>5.849823</td>\n",
       "      <td>5.843197</td>\n",
       "      <td>Community 2</td>\n",
       "    </tr>\n",
       "  </tbody>\n",
       "</table>\n",
       "<p>978 rows × 65 columns</p>\n",
       "</div>"
      ],
      "text/plain": [
       "         GSM870902  GSM870908  GSM870909  GSM870916  GSM870920  GSM870925  \\\n",
       "Symbol                                                                      \n",
       "AAAS      7.270958   7.400666   7.274018   7.305615   7.339042   7.547801   \n",
       "AAR2      8.005934   7.788928   7.795040   8.175761   7.790937   7.630951   \n",
       "ABCA2     5.441511   5.464134   4.936652   5.750829   5.393898   5.455789   \n",
       "ABCC1     7.290247   7.968351   8.225717   7.978555   7.823975   7.750453   \n",
       "ABCD4     6.316590   6.257385   6.164607   6.193646   6.287232   5.882032   \n",
       "...            ...        ...        ...        ...        ...        ...   \n",
       "ZNF821    5.630131   5.529426   5.238278   5.444373   5.544027   5.687905   \n",
       "ZNF844    4.879632   4.926237   4.489063   4.917928   4.808789   4.614156   \n",
       "ZNF879    6.064936   6.722705   5.882056   6.606961   7.178251   6.409577   \n",
       "ZSCAN21   5.834750   5.770977   6.334286   6.170622   6.254965   5.926183   \n",
       "ZSCAN9    5.599729   5.793637   5.570382   6.121506   5.683940   5.436541   \n",
       "\n",
       "         GSM870928  GSM870931  GSM870933  GSM870935  ...  GSM871016  \\\n",
       "Symbol                                               ...              \n",
       "AAAS      7.329639   7.409556   7.300221   7.824174  ...   6.910281   \n",
       "AAR2      7.840549   7.940925   7.945878   8.135699  ...   8.176222   \n",
       "ABCA2     5.291827   5.463618   5.174071   5.631628  ...   4.987576   \n",
       "ABCC1     7.776225   7.538786   7.778362   7.747120  ...   7.676370   \n",
       "ABCD4     6.041392   5.923500   6.118146   6.096498  ...   6.440137   \n",
       "...            ...        ...        ...        ...  ...        ...   \n",
       "ZNF821    5.444817   5.569761   5.517299   5.540761  ...   5.609227   \n",
       "ZNF844    4.462999   4.802756   4.956813   4.874876  ...   5.017132   \n",
       "ZNF879    6.764717   6.852185   6.319512   5.890456  ...   6.628029   \n",
       "ZSCAN21   5.993926   6.321244   5.799894   5.861283  ...   5.997561   \n",
       "ZSCAN9    5.436369   5.539313   5.694981   5.437147  ...   5.801952   \n",
       "\n",
       "         GSM871017  GSM871020  GSM871021  GSM871022  GSM871025  GSM871026  \\\n",
       "Symbol                                                                      \n",
       "AAAS      6.927554   7.239283   6.838720   7.050743   7.252188   7.018683   \n",
       "AAR2      8.070155   8.009229   7.881362   7.962036   7.891650   7.910554   \n",
       "ABCA2     5.156936   5.132485   5.417698   5.529799   5.577380   5.645695   \n",
       "ABCC1     7.554297   7.558153   7.562079   7.847582   7.692821   7.588472   \n",
       "ABCD4     6.269538   6.415836   6.220065   6.504010   6.207760   6.171836   \n",
       "...            ...        ...        ...        ...        ...        ...   \n",
       "ZNF821    5.440470   5.705736   5.738321   5.713382   5.714240   5.476501   \n",
       "ZNF844    4.829034   4.616763   4.625856   4.597220   4.440371   4.343730   \n",
       "ZNF879    6.786501   6.381116   6.001436   7.155586   6.451342   6.758449   \n",
       "ZSCAN21   5.961450   5.831142   5.770635   6.238144   5.838271   6.080958   \n",
       "ZSCAN9    5.447342   5.601338   5.742164   5.884314   6.059390   5.860470   \n",
       "\n",
       "         GSM871027  GSM871032     community  \n",
       "Symbol                                       \n",
       "AAAS      6.891862   7.083908  Community 27  \n",
       "AAR2      7.820054   8.107168   Community 2  \n",
       "ABCA2     5.104899   5.169124  Community 27  \n",
       "ABCC1     7.878840   7.931561  Community 27  \n",
       "ABCD4     6.245180   5.892234  Community 48  \n",
       "...            ...        ...           ...  \n",
       "ZNF821    5.312385   5.525644  Community 23  \n",
       "ZNF844    5.135127   4.608778  Community 23  \n",
       "ZNF879    6.876427   6.541575  Community 27  \n",
       "ZSCAN21   5.884458   6.085920  Community 27  \n",
       "ZSCAN9    5.849823   5.843197   Community 2  \n",
       "\n",
       "[978 rows x 65 columns]"
      ]
     },
     "execution_count": 141,
     "metadata": {},
     "output_type": "execute_result"
    }
   ],
   "source": [
    "community['control']"
   ]
  },
  {
   "cell_type": "code",
   "execution_count": 152,
   "metadata": {},
   "outputs": [],
   "source": [
    "## Study just DKK1\n",
    "\n",
    "import matplotlib.pyplot as plt\n",
    "asthma = community['asthma']\n",
    "control = community['control']"
   ]
  },
  {
   "cell_type": "code",
   "execution_count": 236,
   "metadata": {},
   "outputs": [],
   "source": [
    "n_control = control.shape[1] - 1\n",
    "n_asthma = asthma.shape[1] - 1"
   ]
  },
  {
   "cell_type": "code",
   "execution_count": 165,
   "metadata": {},
   "outputs": [],
   "source": [
    "control_X, asthma_X = control.loc[['DKK1']].values[:, :-1], asthma.loc[['DKK1']].values[:, :-1]"
   ]
  },
  {
   "cell_type": "code",
   "execution_count": 164,
   "metadata": {},
   "outputs": [
    {
     "data": {
      "image/png": "[encoded data removed]",
      "text/plain": [
       "<Figure size 432x288 with 1 Axes>"
      ]
     },
     "metadata": {
      "needs_background": "light"
     },
     "output_type": "display_data"
    }
   ],
   "source": [
    "control_X = control_X[control_X < 5]\n",
    "plt.hist(control_X)\n",
    "plt.hist(asthma_X)\n",
    "plt.show()"
   ]
  },
  {
   "cell_type": "code",
   "execution_count": 237,
   "metadata": {},
   "outputs": [],
   "source": [
    "X = np.concatenate([control_X, asthma_X], axis = 1)\n",
    "Y = [0] * n_control + [1] * n_asthma\n",
    "df = pd.DataFrame({\"X\": X[0], \"Y\": Y})"
   ]
  },
  {
   "cell_type": "code",
   "execution_count": 238,
   "metadata": {},
   "outputs": [
    {
     "data": {
      "text/plain": [
       "(1, 124)"
      ]
     },
     "execution_count": 238,
     "metadata": {},
     "output_type": "execute_result"
    }
   ],
   "source": [
    "X.shape"
   ]
  },
  {
   "cell_type": "code",
   "execution_count": 218,
   "metadata": {},
   "outputs": [
    {
     "data": {
      "text/plain": [
       "{'C': 1.0,\n",
       " 'class_weight': None,\n",
       " 'dual': False,\n",
       " 'fit_intercept': True,\n",
       " 'intercept_scaling': 1,\n",
       " 'l1_ratio': None,\n",
       " 'max_iter': 100,\n",
       " 'multi_class': 'auto',\n",
       " 'n_jobs': None,\n",
       " 'penalty': 'l2',\n",
       " 'random_state': 0,\n",
       " 'solver': 'lbfgs',\n",
       " 'tol': 0.0001,\n",
       " 'verbose': 0,\n",
       " 'warm_start': False}"
      ]
     },
     "execution_count": 218,
     "metadata": {},
     "output_type": "execute_result"
    }
   ],
   "source": [
    "from sklearn.linear_model import LogisticRegression\n",
    "clf = LogisticRegression(random_state=0).fit(np.array(df[\"X\"]).reshape(-1, 1), df[\"Y\"])\n",
    "\n",
    "clf.get_params(deep=True)"
   ]
  },
  {
   "cell_type": "code",
   "execution_count": 204,
   "metadata": {},
   "outputs": [
    {
     "data": {
      "text/plain": [
       "(124,)"
      ]
     },
     "execution_count": 204,
     "metadata": {},
     "output_type": "execute_result"
    }
   ],
   "source": [
    "np.squeeze(X.T).shape"
   ]
  },
  {
   "cell_type": "code",
   "execution_count": 239,
   "metadata": {},
   "outputs": [
    {
     "name": "stdout",
     "output_type": "stream",
     "text": [
      "Optimization terminated successfully.\n",
      "         Current function value: 0.692135\n",
      "         Iterations 3\n"
     ]
    }
   ],
   "source": [
    "import statsmodels.api as sm\n",
    "\n",
    "log_reg = sm.Logit(df[[\"Y\"]], df[[\"X\"]].astype('float')).fit()\n"
   ]
  },
  {
   "cell_type": "code",
   "execution_count": 240,
   "metadata": {},
   "outputs": [
    {
     "data": {
      "text/html": [
       "<table class=\"simpletable\">\n",
       "<caption>Logit Regression Results</caption>\n",
       "<tr>\n",
       "  <th>Dep. Variable:</th>           <td>Y</td>        <th>  No. Observations:  </th>  <td>   124</td>  \n",
       "</tr>\n",
       "<tr>\n",
       "  <th>Model:</th>                 <td>Logit</td>      <th>  Df Residuals:      </th>  <td>   123</td>  \n",
       "</tr>\n",
       "<tr>\n",
       "  <th>Method:</th>                 <td>MLE</td>       <th>  Df Model:          </th>  <td>     0</td>  \n",
       "</tr>\n",
       "<tr>\n",
       "  <th>Date:</th>            <td>Wed, 20 Oct 2021</td> <th>  Pseudo R-squ.:     </th> <td>0.0007101</td>\n",
       "</tr>\n",
       "<tr>\n",
       "  <th>Time:</th>                <td>15:37:46</td>     <th>  Log-Likelihood:    </th> <td> -85.825</td> \n",
       "</tr>\n",
       "<tr>\n",
       "  <th>converged:</th>             <td>True</td>       <th>  LL-Null:           </th> <td> -85.886</td> \n",
       "</tr>\n",
       "<tr>\n",
       "  <th>Covariance Type:</th>     <td>nonrobust</td>    <th>  LLR p-value:       </th>  <td>   nan</td>  \n",
       "</tr>\n",
       "</table>\n",
       "<table class=\"simpletable\">\n",
       "<tr>\n",
       "  <td></td>     <th>coef</th>     <th>std err</th>      <th>z</th>      <th>P>|z|</th>  <th>[0.025</th>    <th>0.975]</th>  \n",
       "</tr>\n",
       "<tr>\n",
       "  <th>X</th> <td>   -0.0270</td> <td>    0.054</td> <td>   -0.501</td> <td> 0.617</td> <td>   -0.133</td> <td>    0.079</td>\n",
       "</tr>\n",
       "</table>"
      ],
      "text/plain": [
       "<class 'statsmodels.iolib.summary.Summary'>\n",
       "\"\"\"\n",
       "                           Logit Regression Results                           \n",
       "==============================================================================\n",
       "Dep. Variable:                      Y   No. Observations:                  124\n",
       "Model:                          Logit   Df Residuals:                      123\n",
       "Method:                           MLE   Df Model:                            0\n",
       "Date:                Wed, 20 Oct 2021   Pseudo R-squ.:               0.0007101\n",
       "Time:                        15:37:46   Log-Likelihood:                -85.825\n",
       "converged:                       True   LL-Null:                       -85.886\n",
       "Covariance Type:            nonrobust   LLR p-value:                       nan\n",
       "==============================================================================\n",
       "                 coef    std err          z      P>|z|      [0.025      0.975]\n",
       "------------------------------------------------------------------------------\n",
       "X             -0.0270      0.054     -0.501      0.617      -0.133       0.079\n",
       "==============================================================================\n",
       "\"\"\""
      ]
     },
     "execution_count": 240,
     "metadata": {},
     "output_type": "execute_result"
    }
   ],
   "source": [
    "log_reg.summary()"
   ]
  },
  {
   "cell_type": "code",
   "execution_count": 244,
   "metadata": {},
   "outputs": [],
   "source": [
    "## all of community 0 analysis\n",
    "\n",
    "comm0 = comm_shortlist[comm_shortlist['Louvain Community'] == \"Community 0\"]['Node ID']"
   ]
  },
  {
   "cell_type": "code",
   "execution_count": 267,
   "metadata": {},
   "outputs": [
    {
     "data": {
      "text/plain": [
       "124"
      ]
     },
     "execution_count": 267,
     "metadata": {},
     "output_type": "execute_result"
    }
   ],
   "source": [
    "len(Y)"
   ]
  },
  {
   "cell_type": "code",
   "execution_count": 275,
   "metadata": {},
   "outputs": [
    {
     "name": "stdout",
     "output_type": "stream",
     "text": [
      "Warning: Maximum number of iterations has been exceeded.\n",
      "         Current function value: inf\n",
      "         Iterations: 35\n"
     ]
    },
    {
     "name": "stderr",
     "output_type": "stream",
     "text": [
      "/Users/bguo/opt/anaconda3/lib/python3.6/site-packages/statsmodels/discrete/discrete_model.py:1747: RuntimeWarning: overflow encountered in exp\n",
      "  return 1/(1+np.exp(-X))\n",
      "/Users/bguo/opt/anaconda3/lib/python3.6/site-packages/statsmodels/discrete/discrete_model.py:1800: RuntimeWarning: divide by zero encountered in log\n",
      "  return np.sum(np.log(self.cdf(q*np.dot(X,params))))\n"
     ]
    },
    {
     "ename": "LinAlgError",
     "evalue": "Singular matrix",
     "output_type": "error",
     "traceback": [
      "\u001b[0;31m---------------------------------------------------------------------------\u001b[0m",
      "\u001b[0;31mLinAlgError\u001b[0m                               Traceback (most recent call last)",
      "\u001b[0;32m<ipython-input-275-f0d2314d3bfd>\u001b[0m in \u001b[0;36m<module>\u001b[0;34m\u001b[0m\n\u001b[1;32m      9\u001b[0m     \u001b[0;32mreturn\u001b[0m \u001b[0mlog_reg\u001b[0m\u001b[0;34m\u001b[0m\u001b[0;34m\u001b[0m\u001b[0m\n\u001b[1;32m     10\u001b[0m \u001b[0;34m\u001b[0m\u001b[0m\n\u001b[0;32m---> 11\u001b[0;31m \u001b[0mplotXY\u001b[0m\u001b[0;34m(\u001b[0m\u001b[0mcomm0\u001b[0m\u001b[0;34m)\u001b[0m\u001b[0;34m\u001b[0m\u001b[0;34m\u001b[0m\u001b[0m\n\u001b[0m",
      "\u001b[0;32m<ipython-input-275-f0d2314d3bfd>\u001b[0m in \u001b[0;36mplotXY\u001b[0;34m(comm0)\u001b[0m\n\u001b[1;32m      6\u001b[0m     \u001b[0mX\u001b[0m \u001b[0;34m=\u001b[0m \u001b[0mnp\u001b[0m\u001b[0;34m.\u001b[0m\u001b[0mconcatenate\u001b[0m\u001b[0;34m(\u001b[0m\u001b[0;34m[\u001b[0m\u001b[0mc\u001b[0m\u001b[0;34m,\u001b[0m \u001b[0ma\u001b[0m\u001b[0;34m]\u001b[0m\u001b[0;34m,\u001b[0m \u001b[0maxis\u001b[0m \u001b[0;34m=\u001b[0m \u001b[0;36m1\u001b[0m\u001b[0;34m)\u001b[0m\u001b[0;34m\u001b[0m\u001b[0;34m\u001b[0m\u001b[0m\n\u001b[1;32m      7\u001b[0m     \u001b[0mX\u001b[0m \u001b[0;34m=\u001b[0m \u001b[0mnormalize\u001b[0m\u001b[0;34m(\u001b[0m\u001b[0mX\u001b[0m\u001b[0;34m,\u001b[0m \u001b[0maxis\u001b[0m\u001b[0;34m=\u001b[0m\u001b[0;36m1\u001b[0m\u001b[0;34m,\u001b[0m \u001b[0mnorm\u001b[0m\u001b[0;34m=\u001b[0m\u001b[0;34m'l1'\u001b[0m\u001b[0;34m)\u001b[0m\u001b[0;34m\u001b[0m\u001b[0;34m\u001b[0m\u001b[0m\n\u001b[0;32m----> 8\u001b[0;31m     \u001b[0mlog_reg\u001b[0m \u001b[0;34m=\u001b[0m \u001b[0msm\u001b[0m\u001b[0;34m.\u001b[0m\u001b[0mLogit\u001b[0m\u001b[0;34m(\u001b[0m\u001b[0mY\u001b[0m\u001b[0;34m,\u001b[0m \u001b[0mX\u001b[0m\u001b[0;34m.\u001b[0m\u001b[0mT\u001b[0m\u001b[0;34m)\u001b[0m\u001b[0;34m.\u001b[0m\u001b[0mfit\u001b[0m\u001b[0;34m(\u001b[0m\u001b[0;34m)\u001b[0m\u001b[0;34m\u001b[0m\u001b[0;34m\u001b[0m\u001b[0m\n\u001b[0m\u001b[1;32m      9\u001b[0m     \u001b[0;32mreturn\u001b[0m \u001b[0mlog_reg\u001b[0m\u001b[0;34m\u001b[0m\u001b[0;34m\u001b[0m\u001b[0m\n\u001b[1;32m     10\u001b[0m \u001b[0;34m\u001b[0m\u001b[0m\n",
      "\u001b[0;32m~/opt/anaconda3/lib/python3.6/site-packages/statsmodels/discrete/discrete_model.py\u001b[0m in \u001b[0;36mfit\u001b[0;34m(self, start_params, method, maxiter, full_output, disp, callback, **kwargs)\u001b[0m\n\u001b[1;32m   1911\u001b[0m         bnryfit = super(Logit, self).fit(start_params=start_params,\n\u001b[1;32m   1912\u001b[0m                 \u001b[0mmethod\u001b[0m\u001b[0;34m=\u001b[0m\u001b[0mmethod\u001b[0m\u001b[0;34m,\u001b[0m \u001b[0mmaxiter\u001b[0m\u001b[0;34m=\u001b[0m\u001b[0mmaxiter\u001b[0m\u001b[0;34m,\u001b[0m \u001b[0mfull_output\u001b[0m\u001b[0;34m=\u001b[0m\u001b[0mfull_output\u001b[0m\u001b[0;34m,\u001b[0m\u001b[0;34m\u001b[0m\u001b[0;34m\u001b[0m\u001b[0m\n\u001b[0;32m-> 1913\u001b[0;31m                 disp=disp, callback=callback, **kwargs)\n\u001b[0m\u001b[1;32m   1914\u001b[0m \u001b[0;34m\u001b[0m\u001b[0m\n\u001b[1;32m   1915\u001b[0m         \u001b[0mdiscretefit\u001b[0m \u001b[0;34m=\u001b[0m \u001b[0mLogitResults\u001b[0m\u001b[0;34m(\u001b[0m\u001b[0mself\u001b[0m\u001b[0;34m,\u001b[0m \u001b[0mbnryfit\u001b[0m\u001b[0;34m)\u001b[0m\u001b[0;34m\u001b[0m\u001b[0;34m\u001b[0m\u001b[0m\n",
      "\u001b[0;32m~/opt/anaconda3/lib/python3.6/site-packages/statsmodels/discrete/discrete_model.py\u001b[0m in \u001b[0;36mfit\u001b[0;34m(self, start_params, method, maxiter, full_output, disp, callback, **kwargs)\u001b[0m\n\u001b[1;32m    214\u001b[0m             \u001b[0mstart_params\u001b[0m\u001b[0;34m=\u001b[0m\u001b[0mstart_params\u001b[0m\u001b[0;34m,\u001b[0m\u001b[0;34m\u001b[0m\u001b[0;34m\u001b[0m\u001b[0m\n\u001b[1;32m    215\u001b[0m             \u001b[0mmethod\u001b[0m\u001b[0;34m=\u001b[0m\u001b[0mmethod\u001b[0m\u001b[0;34m,\u001b[0m \u001b[0mmaxiter\u001b[0m\u001b[0;34m=\u001b[0m\u001b[0mmaxiter\u001b[0m\u001b[0;34m,\u001b[0m \u001b[0mfull_output\u001b[0m\u001b[0;34m=\u001b[0m\u001b[0mfull_output\u001b[0m\u001b[0;34m,\u001b[0m\u001b[0;34m\u001b[0m\u001b[0;34m\u001b[0m\u001b[0m\n\u001b[0;32m--> 216\u001b[0;31m             disp=disp, callback=callback, **kwargs)\n\u001b[0m\u001b[1;32m    217\u001b[0m \u001b[0;34m\u001b[0m\u001b[0m\n\u001b[1;32m    218\u001b[0m         \u001b[0;32mreturn\u001b[0m \u001b[0mmlefit\u001b[0m  \u001b[0;31m# It is up to subclasses to wrap results\u001b[0m\u001b[0;34m\u001b[0m\u001b[0;34m\u001b[0m\u001b[0m\n",
      "\u001b[0;32m~/opt/anaconda3/lib/python3.6/site-packages/statsmodels/base/model.py\u001b[0m in \u001b[0;36mfit\u001b[0;34m(self, start_params, method, maxiter, full_output, disp, fargs, callback, retall, skip_hessian, **kwargs)\u001b[0m\n\u001b[1;32m    531\u001b[0m             \u001b[0mHinv\u001b[0m \u001b[0;34m=\u001b[0m \u001b[0mcov_params_func\u001b[0m\u001b[0;34m(\u001b[0m\u001b[0mself\u001b[0m\u001b[0;34m,\u001b[0m \u001b[0mxopt\u001b[0m\u001b[0;34m,\u001b[0m \u001b[0mretvals\u001b[0m\u001b[0;34m)\u001b[0m\u001b[0;34m\u001b[0m\u001b[0;34m\u001b[0m\u001b[0m\n\u001b[1;32m    532\u001b[0m         \u001b[0;32melif\u001b[0m \u001b[0mmethod\u001b[0m \u001b[0;34m==\u001b[0m \u001b[0;34m'newton'\u001b[0m \u001b[0;32mand\u001b[0m \u001b[0mfull_output\u001b[0m\u001b[0;34m:\u001b[0m\u001b[0;34m\u001b[0m\u001b[0;34m\u001b[0m\u001b[0m\n\u001b[0;32m--> 533\u001b[0;31m             \u001b[0mHinv\u001b[0m \u001b[0;34m=\u001b[0m \u001b[0mnp\u001b[0m\u001b[0;34m.\u001b[0m\u001b[0mlinalg\u001b[0m\u001b[0;34m.\u001b[0m\u001b[0minv\u001b[0m\u001b[0;34m(\u001b[0m\u001b[0;34m-\u001b[0m\u001b[0mretvals\u001b[0m\u001b[0;34m[\u001b[0m\u001b[0;34m'Hessian'\u001b[0m\u001b[0;34m]\u001b[0m\u001b[0;34m)\u001b[0m \u001b[0;34m/\u001b[0m \u001b[0mnobs\u001b[0m\u001b[0;34m\u001b[0m\u001b[0;34m\u001b[0m\u001b[0m\n\u001b[0m\u001b[1;32m    534\u001b[0m         \u001b[0;32melif\u001b[0m \u001b[0;32mnot\u001b[0m \u001b[0mskip_hessian\u001b[0m\u001b[0;34m:\u001b[0m\u001b[0;34m\u001b[0m\u001b[0;34m\u001b[0m\u001b[0m\n\u001b[1;32m    535\u001b[0m             \u001b[0mH\u001b[0m \u001b[0;34m=\u001b[0m \u001b[0;34m-\u001b[0m\u001b[0;36m1\u001b[0m \u001b[0;34m*\u001b[0m \u001b[0mself\u001b[0m\u001b[0;34m.\u001b[0m\u001b[0mhessian\u001b[0m\u001b[0;34m(\u001b[0m\u001b[0mxopt\u001b[0m\u001b[0;34m)\u001b[0m\u001b[0;34m\u001b[0m\u001b[0;34m\u001b[0m\u001b[0m\n",
      "\u001b[0;32m<__array_function__ internals>\u001b[0m in \u001b[0;36minv\u001b[0;34m(*args, **kwargs)\u001b[0m\n",
      "\u001b[0;32m~/.local/lib/python3.6/site-packages/numpy/linalg/linalg.py\u001b[0m in \u001b[0;36minv\u001b[0;34m(a)\u001b[0m\n\u001b[1;32m    545\u001b[0m     \u001b[0msignature\u001b[0m \u001b[0;34m=\u001b[0m \u001b[0;34m'D->D'\u001b[0m \u001b[0;32mif\u001b[0m \u001b[0misComplexType\u001b[0m\u001b[0;34m(\u001b[0m\u001b[0mt\u001b[0m\u001b[0;34m)\u001b[0m \u001b[0;32melse\u001b[0m \u001b[0;34m'd->d'\u001b[0m\u001b[0;34m\u001b[0m\u001b[0;34m\u001b[0m\u001b[0m\n\u001b[1;32m    546\u001b[0m     \u001b[0mextobj\u001b[0m \u001b[0;34m=\u001b[0m \u001b[0mget_linalg_error_extobj\u001b[0m\u001b[0;34m(\u001b[0m\u001b[0m_raise_linalgerror_singular\u001b[0m\u001b[0;34m)\u001b[0m\u001b[0;34m\u001b[0m\u001b[0;34m\u001b[0m\u001b[0m\n\u001b[0;32m--> 547\u001b[0;31m     \u001b[0mainv\u001b[0m \u001b[0;34m=\u001b[0m \u001b[0m_umath_linalg\u001b[0m\u001b[0;34m.\u001b[0m\u001b[0minv\u001b[0m\u001b[0;34m(\u001b[0m\u001b[0ma\u001b[0m\u001b[0;34m,\u001b[0m \u001b[0msignature\u001b[0m\u001b[0;34m=\u001b[0m\u001b[0msignature\u001b[0m\u001b[0;34m,\u001b[0m \u001b[0mextobj\u001b[0m\u001b[0;34m=\u001b[0m\u001b[0mextobj\u001b[0m\u001b[0;34m)\u001b[0m\u001b[0;34m\u001b[0m\u001b[0;34m\u001b[0m\u001b[0m\n\u001b[0m\u001b[1;32m    548\u001b[0m     \u001b[0;32mreturn\u001b[0m \u001b[0mwrap\u001b[0m\u001b[0;34m(\u001b[0m\u001b[0mainv\u001b[0m\u001b[0;34m.\u001b[0m\u001b[0mastype\u001b[0m\u001b[0;34m(\u001b[0m\u001b[0mresult_t\u001b[0m\u001b[0;34m,\u001b[0m \u001b[0mcopy\u001b[0m\u001b[0;34m=\u001b[0m\u001b[0;32mFalse\u001b[0m\u001b[0;34m)\u001b[0m\u001b[0;34m)\u001b[0m\u001b[0;34m\u001b[0m\u001b[0;34m\u001b[0m\u001b[0m\n\u001b[1;32m    549\u001b[0m \u001b[0;34m\u001b[0m\u001b[0m\n",
      "\u001b[0;32m~/.local/lib/python3.6/site-packages/numpy/linalg/linalg.py\u001b[0m in \u001b[0;36m_raise_linalgerror_singular\u001b[0;34m(err, flag)\u001b[0m\n\u001b[1;32m     95\u001b[0m \u001b[0;34m\u001b[0m\u001b[0m\n\u001b[1;32m     96\u001b[0m \u001b[0;32mdef\u001b[0m \u001b[0m_raise_linalgerror_singular\u001b[0m\u001b[0;34m(\u001b[0m\u001b[0merr\u001b[0m\u001b[0;34m,\u001b[0m \u001b[0mflag\u001b[0m\u001b[0;34m)\u001b[0m\u001b[0;34m:\u001b[0m\u001b[0;34m\u001b[0m\u001b[0;34m\u001b[0m\u001b[0m\n\u001b[0;32m---> 97\u001b[0;31m     \u001b[0;32mraise\u001b[0m \u001b[0mLinAlgError\u001b[0m\u001b[0;34m(\u001b[0m\u001b[0;34m\"Singular matrix\"\u001b[0m\u001b[0;34m)\u001b[0m\u001b[0;34m\u001b[0m\u001b[0;34m\u001b[0m\u001b[0m\n\u001b[0m\u001b[1;32m     98\u001b[0m \u001b[0;34m\u001b[0m\u001b[0m\n\u001b[1;32m     99\u001b[0m \u001b[0;32mdef\u001b[0m \u001b[0m_raise_linalgerror_nonposdef\u001b[0m\u001b[0;34m(\u001b[0m\u001b[0merr\u001b[0m\u001b[0;34m,\u001b[0m \u001b[0mflag\u001b[0m\u001b[0;34m)\u001b[0m\u001b[0;34m:\u001b[0m\u001b[0;34m\u001b[0m\u001b[0;34m\u001b[0m\u001b[0m\n",
      "\u001b[0;31mLinAlgError\u001b[0m: Singular matrix"
     ]
    }
   ],
   "source": [
    "# get the X matrix for all these genes\n",
    "def plotXY(comm0):\n",
    "    c = control[control.index.isin(comm0)].drop(['community'], axis = 1)\n",
    "    a = asthma[asthma.index.isin(comm0)].drop(['community'], axis = 1)\n",
    "    \n",
    "    X = np.concatenate([c, a], axis = 1)\n",
    "    X = normalize(X, axis=1, norm='l1')\n",
    "    log_reg = sm.Logit(Y, X.T).fit()\n",
    "    return log_reg \n",
    "\n",
    "plotXY(comm0)"
   ]
  },
  {
   "cell_type": "code",
   "execution_count": 273,
   "metadata": {},
   "outputs": [
    {
     "data": {
      "text/plain": [
       "array([[0.00849377, 0.00783585, 0.00868762, ..., 0.00799736, 0.00743096,\n",
       "        0.00758686],\n",
       "       [0.00806381, 0.0080287 , 0.00857217, ..., 0.00811207, 0.0079027 ,\n",
       "        0.00799768],\n",
       "       [0.00833414, 0.0080641 , 0.00842013, ..., 0.00798104, 0.00820794,\n",
       "        0.00768667],\n",
       "       ...,\n",
       "       [0.00798829, 0.00811553, 0.00781662, ..., 0.00830947, 0.00807278,\n",
       "        0.00764935],\n",
       "       [0.00850777, 0.0086258 , 0.0078654 , ..., 0.00801623, 0.00803401,\n",
       "        0.0074183 ],\n",
       "       [0.00762019, 0.00805545, 0.00813432, ..., 0.00822474, 0.00825422,\n",
       "        0.00819556]])"
      ]
     },
     "execution_count": 273,
     "metadata": {},
     "output_type": "execute_result"
    }
   ],
   "source": [
    "from sklearn.preprocessing import normalize\n",
    "\n",
    "normalize(X, axis=1, norm='l1')"
   ]
  },
  {
   "cell_type": "code",
   "execution_count": 277,
   "metadata": {},
   "outputs": [],
   "source": [
    "import pickle\n",
    "\n",
    "with open(\"community_expr.pkl\", \"wb\") as f:\n",
    "    pickle.dump(community, f)\n",
    "    "
   ]
  },
  {
   "cell_type": "code",
   "execution_count": null,
   "metadata": {},
   "outputs": [],
   "source": []
  }
 ],
 "metadata": {
  "kernelspec": {
   "display_name": "Python 3",
   "language": "python",
   "name": "python3"
  },
  "language_info": {
   "codemirror_mode": {
    "name": "ipython",
    "version": 3
   },
   "file_extension": ".py",
   "mimetype": "text/x-python",
   "name": "python",
   "nbconvert_exporter": "python",
   "pygments_lexer": "ipython3",
   "version": "3.6.10"
  }
 },
 "nbformat": 4,
 "nbformat_minor": 4
}
