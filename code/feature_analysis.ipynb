{
 "cells": [
  {
   "cell_type": "markdown",
   "id": "b8699529",
   "metadata": {},
   "source": [
    "# Feature analysis for asthma-specific patients against control group"
   ]
  },
  {
   "cell_type": "code",
   "execution_count": 3,
   "id": "c9ff3bdd",
   "metadata": {},
   "outputs": [],
   "source": [
    "import pandas as pd\n",
    "import numpy as np\n",
    "\n",
    "from sklearn.linear_model import LinearRegression, LogisticRegression\n",
    "from sklearn.metrics import r2_score, log_loss\n",
    "\n",
    "import statsmodels.formula.api as smf\n",
    "import statsmodels.api as sm"
   ]
  },
  {
   "cell_type": "code",
   "execution_count": 4,
   "id": "56890fc7",
   "metadata": {},
   "outputs": [],
   "source": [
    "# read dataset\n",
    "ds = pd.read_pickle(\"../data/community_expr.pkl\")\n",
    "\n",
    "control = ds['control']\n",
    "asthma = ds['asthma']\n",
    "\n",
    "communities = list(asthma['community'].unique())"
   ]
  },
  {
   "cell_type": "markdown",
   "id": "c4d8906f",
   "metadata": {},
   "source": [
    "## Analysis of genes as predictors"
   ]
  },
  {
   "cell_type": "code",
   "execution_count": 31,
   "id": "8a46dee5",
   "metadata": {},
   "outputs": [
    {
     "name": "stdout",
     "output_type": "stream",
     "text": [
      "Logistic loss: 0.0949\n"
     ]
    }
   ],
   "source": [
    "## train logistic regression\n",
    "\n",
    "# combine asthma and control patients into sets of input and labels\n",
    "a2 = pd.DataFrame(asthma.transpose())\n",
    "c2 = pd.DataFrame(control.transpose())\n",
    "a2['asthma'] = 1\n",
    "c2['asthma'] = 0\n",
    "train_a = a2.head(len(a2) - 1)\n",
    "train_c = c2.head(len(c2) - 1)\n",
    "dataset = pd.concat([train_a, train_c])\n",
    "X = dataset.drop('asthma', axis=1)\n",
    "y = dataset['asthma']\n",
    "\n",
    "## fit model\n",
    "reg = LogisticRegression(max_iter=1000).fit(np.array(X), np.array(y))\n",
    "\n",
    "# calculate score\n",
    "loss = log_loss(y, reg.predict_proba(X))\n",
    "print(\"Logistic loss: %.4f\" % loss)"
   ]
  },
  {
   "cell_type": "code",
   "execution_count": 32,
   "id": "92202eb4",
   "metadata": {},
   "outputs": [
    {
     "data": {
      "text/html": [
       "<div>\n",
       "<style scoped>\n",
       "    .dataframe tbody tr th:only-of-type {\n",
       "        vertical-align: middle;\n",
       "    }\n",
       "\n",
       "    .dataframe tbody tr th {\n",
       "        vertical-align: top;\n",
       "    }\n",
       "\n",
       "    .dataframe thead th {\n",
       "        text-align: right;\n",
       "    }\n",
       "</style>\n",
       "<table border=\"1\" class=\"dataframe\">\n",
       "  <thead>\n",
       "    <tr style=\"text-align: right;\">\n",
       "      <th></th>\n",
       "      <th>gene</th>\n",
       "      <th>coefficient</th>\n",
       "    </tr>\n",
       "  </thead>\n",
       "  <tbody>\n",
       "    <tr>\n",
       "      <th>0</th>\n",
       "      <td>ST6GALNAC3</td>\n",
       "      <td>0.534319</td>\n",
       "    </tr>\n",
       "    <tr>\n",
       "      <th>1</th>\n",
       "      <td>TSPYL5</td>\n",
       "      <td>0.523160</td>\n",
       "    </tr>\n",
       "    <tr>\n",
       "      <th>2</th>\n",
       "      <td>PLA2G7</td>\n",
       "      <td>0.471735</td>\n",
       "    </tr>\n",
       "    <tr>\n",
       "      <th>3</th>\n",
       "      <td>MICU3</td>\n",
       "      <td>0.463369</td>\n",
       "    </tr>\n",
       "    <tr>\n",
       "      <th>4</th>\n",
       "      <td>DHRS4-AS1</td>\n",
       "      <td>0.455403</td>\n",
       "    </tr>\n",
       "  </tbody>\n",
       "</table>\n",
       "</div>"
      ],
      "text/plain": [
       "         gene  coefficient\n",
       "0  ST6GALNAC3     0.534319\n",
       "1      TSPYL5     0.523160\n",
       "2      PLA2G7     0.471735\n",
       "3       MICU3     0.463369\n",
       "4   DHRS4-AS1     0.455403"
      ]
     },
     "execution_count": 32,
     "metadata": {},
     "output_type": "execute_result"
    }
   ],
   "source": [
    "# rank genes by coefficients\n",
    "coefs = reg.coef_[0]\n",
    "\n",
    "# sort by coef\n",
    "maxn = sorted(coefs,reverse=True)[:20]\n",
    "max_genes = {}\n",
    "for n in maxn:\n",
    "    i, = np.where(np.isclose(coefs, n))\n",
    "    max_genes[X.columns[i][0]] = n\n",
    "\n",
    "# output results\n",
    "max_genes = pd.DataFrame(max_genes.items(), columns=['gene', 'coefficient'])\n",
    "max_genes.to_csv('../data/gene_coefficients.csv')\n",
    "max_genes.head()"
   ]
  },
  {
   "cell_type": "markdown",
   "id": "3c88c4ab",
   "metadata": {},
   "source": [
    "## Community-based analysis"
   ]
  },
  {
   "cell_type": "code",
   "execution_count": 30,
   "id": "c84ae506",
   "metadata": {},
   "outputs": [
    {
     "data": {
      "text/html": [
       "<div>\n",
       "<style scoped>\n",
       "    .dataframe tbody tr th:only-of-type {\n",
       "        vertical-align: middle;\n",
       "    }\n",
       "\n",
       "    .dataframe tbody tr th {\n",
       "        vertical-align: top;\n",
       "    }\n",
       "\n",
       "    .dataframe thead th {\n",
       "        text-align: right;\n",
       "    }\n",
       "</style>\n",
       "<table border=\"1\" class=\"dataframe\">\n",
       "  <thead>\n",
       "    <tr style=\"text-align: right;\">\n",
       "      <th></th>\n",
       "      <th>community</th>\n",
       "      <th>coefficient</th>\n",
       "    </tr>\n",
       "  </thead>\n",
       "  <tbody>\n",
       "    <tr>\n",
       "      <th>0</th>\n",
       "      <td>Community 0</td>\n",
       "      <td>0.263610</td>\n",
       "    </tr>\n",
       "    <tr>\n",
       "      <th>1</th>\n",
       "      <td>Community 23</td>\n",
       "      <td>-0.050312</td>\n",
       "    </tr>\n",
       "    <tr>\n",
       "      <th>2</th>\n",
       "      <td>Community 48</td>\n",
       "      <td>-0.186279</td>\n",
       "    </tr>\n",
       "    <tr>\n",
       "      <th>3</th>\n",
       "      <td>Community 27</td>\n",
       "      <td>-0.203218</td>\n",
       "    </tr>\n",
       "    <tr>\n",
       "      <th>4</th>\n",
       "      <td>Community 2</td>\n",
       "      <td>-0.272948</td>\n",
       "    </tr>\n",
       "  </tbody>\n",
       "</table>\n",
       "</div>"
      ],
      "text/plain": [
       "      community  coefficient\n",
       "0   Community 0     0.263610\n",
       "1  Community 23    -0.050312\n",
       "2  Community 48    -0.186279\n",
       "3  Community 27    -0.203218\n",
       "4   Community 2    -0.272948"
      ]
     },
     "execution_count": 30,
     "metadata": {},
     "output_type": "execute_result"
    }
   ],
   "source": [
    "# group genes into communities\n",
    "a2 = pd.DataFrame(asthma.groupby('community').mean().transpose())\n",
    "c2 = pd.DataFrame(control.groupby('community').mean().transpose())\n",
    "a2['asthma'] = 1\n",
    "c2['asthma'] = 0\n",
    "train_a = a2.head(len(a2) - 1)\n",
    "train_c = c2.head(len(c2) - 1)\n",
    "dataset = pd.concat([train_a, train_c])\n",
    "X = dataset.drop('asthma', axis=1)\n",
    "y = dataset['asthma']\n",
    "\n",
    "# rank communities\n",
    "reg = LogisticRegression(max_iter=1000).fit(np.array(X), np.array(y))\n",
    "coefs = reg.coef_[0]\n",
    "maxn = sorted(coefs,reverse=True)\n",
    "max_comms = {}\n",
    "for n in maxn:\n",
    "    i, = np.where(np.isclose(coefs, n))\n",
    "    max_comms[X.columns[i][0]] = n\n",
    "\n",
    "# output results\n",
    "max_comms = pd.DataFrame(max_comms.items(), columns=['community', 'coefficient'])\n",
    "max_comms.to_csv('../data/community_coefficients.csv')\n",
    "max_comms.head()"
   ]
  }
 ],
 "metadata": {
  "kernelspec": {
   "display_name": "Python 3 (ipykernel)",
   "language": "python",
   "name": "python3"
  },
  "language_info": {
   "codemirror_mode": {
    "name": "ipython",
    "version": 3
   },
   "file_extension": ".py",
   "mimetype": "text/x-python",
   "name": "python",
   "nbconvert_exporter": "python",
   "pygments_lexer": "ipython3",
   "version": "3.8.8"
  },
  "latex_envs": {
   "LaTeX_envs_menu_present": true,
   "autoclose": false,
   "autocomplete": true,
   "bibliofile": "biblio.bib",
   "cite_by": "apalike",
   "current_citInitial": 1,
   "eqLabelWithNumbers": true,
   "eqNumInitial": 1,
   "hotkeys": {
    "equation": "Ctrl-E",
    "itemize": "Ctrl-I"
   },
   "labels_anchors": false,
   "latex_user_defs": false,
   "report_style_numbering": false,
   "user_envs_cfg": false
  },
  "toc": {
   "base_numbering": 1,
   "nav_menu": {},
   "number_sections": false,
   "sideBar": true,
   "skip_h1_title": false,
   "title_cell": "Table of Contents",
   "title_sidebar": "Contents",
   "toc_cell": false,
   "toc_position": {},
   "toc_section_display": true,
   "toc_window_display": true
  }
 },
 "nbformat": 4,
 "nbformat_minor": 5
}
